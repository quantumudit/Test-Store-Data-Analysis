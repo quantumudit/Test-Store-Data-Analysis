{
 "cells": [
  {
   "cell_type": "markdown",
   "metadata": {},
   "source": [
    "# Web Scraping Tests"
   ]
  },
  {
   "cell_type": "code",
   "execution_count": 1,
   "metadata": {},
   "outputs": [],
   "source": [
    "import httpx\n",
    "from selectolax.parser import HTMLParser"
   ]
  },
  {
   "cell_type": "code",
   "execution_count": 2,
   "metadata": {},
   "outputs": [],
   "source": [
    "# setting up constants\n",
    "ROOT_URL = \"https://gopher1.extrkt.com/\"\n",
    "USER_AGENT = \"Mozilla/5.0 (X11; Ubuntu; Linux x86_64; rv:109.0) Gecko/20100101 Firefox/117.0\"\n",
    "HEADERS = {\"User-Agent\": USER_AGENT, \"accept-language\": \"en-US\"}\n",
    "TIMEOUT = 100"
   ]
  },
  {
   "cell_type": "code",
   "execution_count": 3,
   "metadata": {},
   "outputs": [
    {
     "name": "stdout",
     "output_type": "stream",
     "text": [
      "200\n"
     ]
    }
   ],
   "source": [
    "# get website response\n",
    "response = httpx.get(ROOT_URL, headers=HEADERS, timeout=TIMEOUT)\n",
    "print(response.status_code)"
   ]
  },
  {
   "cell_type": "code",
   "execution_count": 4,
   "metadata": {},
   "outputs": [
    {
     "data": {
      "text/plain": [
       "<HTMLParser chars=71960>"
      ]
     },
     "execution_count": 4,
     "metadata": {},
     "output_type": "execute_result"
    }
   ],
   "source": [
    "parsed_html = HTMLParser(response.text)\n",
    "parsed_html"
   ]
  },
  {
   "cell_type": "code",
   "execution_count": 5,
   "metadata": {},
   "outputs": [
    {
     "data": {
      "text/plain": [
       "selectolax.parser.HTMLParser"
      ]
     },
     "execution_count": 5,
     "metadata": {},
     "output_type": "execute_result"
    }
   ],
   "source": [
    "type(parsed_html)"
   ]
  },
  {
   "cell_type": "code",
   "execution_count": 6,
   "metadata": {},
   "outputs": [
    {
     "name": "stdout",
     "output_type": "stream",
     "text": [
      "Product on the first page: 16\n"
     ]
    }
   ],
   "source": [
    "all_products = parsed_html.css(\"ul.products li\")\n",
    "print(f\"Product on the first page: {len(all_products)}\")"
   ]
  },
  {
   "cell_type": "code",
   "execution_count": 7,
   "metadata": {},
   "outputs": [
    {
     "name": "stdout",
     "output_type": "stream",
     "text": [
      "https://gopher1.extrkt.com/?product=abominable-hoodie\n",
      "https://gopher1.extrkt.com/?product=adrienne-trek-jacket\n",
      "https://gopher1.extrkt.com/?product=aeon-capri\n",
      "https://gopher1.extrkt.com/?product=aero-daily-fitness-tee\n",
      "https://gopher1.extrkt.com/?product=aether-gym-pant\n",
      "https://gopher1.extrkt.com/?product=affirm-water-bottle\n",
      "https://gopher1.extrkt.com/?product=aim-analog-watch\n",
      "https://gopher1.extrkt.com/?product=ajax-full-zip-sweatshirt\n",
      "https://gopher1.extrkt.com/?product=ana-running-short\n",
      "https://gopher1.extrkt.com/?product=angel-light-running-short\n",
      "https://gopher1.extrkt.com/?product=antonia-racer-tank\n",
      "https://gopher1.extrkt.com/?product=apollo-running-short\n",
      "https://gopher1.extrkt.com/?product=arcadio-gym-short\n",
      "https://gopher1.extrkt.com/?product=argus-all-weather-tank\n",
      "https://gopher1.extrkt.com/?product=ariel-roll-sleeve-sweatshirt\n",
      "https://gopher1.extrkt.com/?product=artemis-running-short\n"
     ]
    }
   ],
   "source": [
    "# fetch URLS\n",
    "\n",
    "for product in all_products:\n",
    "    product_url = product.css_first(\"a\").attrs[\"href\"]\n",
    "    print(product_url)"
   ]
  },
  {
   "cell_type": "markdown",
   "metadata": {},
   "source": [
    "### Fetch Sample Product Info"
   ]
  },
  {
   "cell_type": "code",
   "execution_count": 8,
   "metadata": {},
   "outputs": [
    {
     "name": "stdout",
     "output_type": "stream",
     "text": [
      "https://gopher1.extrkt.com/?product=abominable-hoodie\n"
     ]
    }
   ],
   "source": [
    "rand_prod = all_products[0]\n",
    "\n",
    "rand_prod_url = rand_prod.css_first(\"a\").attrs[\"href\"]\n",
    "print(rand_prod_url)"
   ]
  },
  {
   "cell_type": "code",
   "execution_count": 9,
   "metadata": {},
   "outputs": [
    {
     "name": "stdout",
     "output_type": "stream",
     "text": [
      "200\n"
     ]
    }
   ],
   "source": [
    "# get response from product url\n",
    "prod_response = httpx.get(rand_prod_url, headers=HEADERS, timeout=TIMEOUT)\n",
    "print(prod_response.status_code)"
   ]
  },
  {
   "cell_type": "code",
   "execution_count": 10,
   "metadata": {},
   "outputs": [
    {
     "data": {
      "text/plain": [
       "<HTMLParser chars=115587>"
      ]
     },
     "execution_count": 10,
     "metadata": {},
     "output_type": "execute_result"
    }
   ],
   "source": [
    "prod_html = HTMLParser(prod_response.text)\n",
    "prod_html\n"
   ]
  },
  {
   "cell_type": "code",
   "execution_count": 11,
   "metadata": {},
   "outputs": [
    {
     "name": "stdout",
     "output_type": "stream",
     "text": [
      "Abominable Hoodie\n"
     ]
    }
   ],
   "source": [
    "title = prod_html.css_first(\"h1.product_title\").text(strip=True)\n",
    "print(title)"
   ]
  },
  {
   "cell_type": "code",
   "execution_count": 12,
   "metadata": {},
   "outputs": [
    {
     "name": "stdout",
     "output_type": "stream",
     "text": [
      "£69.00\n"
     ]
    }
   ],
   "source": [
    "price = prod_html.css_first(\"p.price\").text(strip=True)\n",
    "print(price)"
   ]
  },
  {
   "cell_type": "code",
   "execution_count": 13,
   "metadata": {},
   "outputs": [],
   "source": [
    "stock = prod_html.css_first(\"p.stock\")\n",
    "\n",
    "if stock is not None:\n",
    "    in_stock = stock.text()"
   ]
  },
  {
   "cell_type": "code",
   "execution_count": 14,
   "metadata": {},
   "outputs": [
    {
     "name": "stdout",
     "output_type": "stream",
     "text": [
      "MH09\n"
     ]
    }
   ],
   "source": [
    "sku = prod_html.css_first(\"span.sku\").text(strip=True)\n",
    "print(sku)"
   ]
  },
  {
   "cell_type": "code",
   "execution_count": 15,
   "metadata": {},
   "outputs": [
    {
     "name": "stdout",
     "output_type": "stream",
     "text": [
      "Hoodies & Sweatshirts\n"
     ]
    }
   ],
   "source": [
    "category = prod_html.css_first(\"a[rel='tag']\").text(strip=True)\n",
    "print(category)"
   ]
  },
  {
   "cell_type": "code",
   "execution_count": 16,
   "metadata": {},
   "outputs": [
    {
     "name": "stdout",
     "output_type": "stream",
     "text": [
      "It took CoolTech™ weather apparel know-how and lots of wind-resistant fabric to get the Abominable Hoodie just right. It’s aggressively warm when it needs to be, while maintaining your comfort in milder climes.\n",
      "• Blue heather hoodie.• Relaxed fit.• Moisture-wicking.• Machine wash/dry.\n"
     ]
    }
   ],
   "source": [
    "description = \"\\n\".join([element.text(strip=True) for element in prod_html.css(\"div#tab-description p\")])\n",
    "print(description)\n"
   ]
  },
  {
   "cell_type": "code",
   "execution_count": 17,
   "metadata": {},
   "outputs": [
    {
     "name": "stdout",
     "output_type": "stream",
     "text": [
      "{'Size': 'XS, S, M, L, XL', 'Color': 'Blue, Green, Red'}\n"
     ]
    }
   ],
   "source": [
    "more_info = prod_html.css(\"div#tab-additional_information tr\")\n",
    "\n",
    "if more_info is not None:\n",
    "    details = {\n",
    "        info.css_first(\"th\").text(): info.css_first(\"td p\").text() for info in more_info\n",
    "    }\n",
    "\n",
    "print(details)"
   ]
  },
  {
   "cell_type": "code",
   "execution_count": 18,
   "metadata": {},
   "outputs": [
    {
     "name": "stdout",
     "output_type": "stream",
     "text": [
      "https://gopher1.extrkt.com/wp-content/uploads/2023/11/mh09-blue_main.jpg\n"
     ]
    }
   ],
   "source": [
    "product_image_link = prod_html.css_first(\"div.woocommerce-product-gallery__wrapper a\").attrs[\"href\"]\n",
    "print(product_image_link)"
   ]
  },
  {
   "cell_type": "markdown",
   "metadata": {},
   "source": [
    "**View sample image**\n",
    "\n",
    "<img src=\"https://gopher1.extrkt.com/wp-content/uploads/2023/11/mh09-blue_main.jpg\" alt=\"img\" height=\"200px\">\n"
   ]
  },
  {
   "cell_type": "markdown",
   "metadata": {},
   "source": [
    "### Get Current Timestamp"
   ]
  },
  {
   "cell_type": "code",
   "execution_count": 19,
   "metadata": {},
   "outputs": [
    {
     "data": {
      "text/plain": [
       "'2024-02-03 17:49:51'"
      ]
     },
     "execution_count": 19,
     "metadata": {},
     "output_type": "execute_result"
    }
   ],
   "source": [
    "from datetime import datetime\n",
    "\n",
    "timestamp = datetime.now().strftime(\"%Y-%m-%d %H:%M:%S\")\n",
    "timestamp"
   ]
  },
  {
   "cell_type": "markdown",
   "metadata": {},
   "source": [
    "### Handle Pagination"
   ]
  },
  {
   "cell_type": "code",
   "execution_count": 20,
   "metadata": {},
   "outputs": [
    {
     "name": "stdout",
     "output_type": "stream",
     "text": [
      "https://gopher1.extrkt.com/?paged=2\n"
     ]
    }
   ],
   "source": [
    "# source page html is \"parsed_html\"\n",
    "\n",
    "next_page_url = parsed_html.css_first(\"ul.page-numbers li a.next\").attrs[\"href\"]\n",
    "print(next_page_url)"
   ]
  },
  {
   "cell_type": "code",
   "execution_count": 21,
   "metadata": {},
   "outputs": [],
   "source": [
    "# Crawling through pages to get all page links, recursively\n",
    "\n",
    "def get_all_page_urls(page_url: str, counter: int=1):\n",
    "    site_response = httpx.get(page_url, headers=HEADERS, timeout=TIMEOUT)\n",
    "    content_html = HTMLParser(site_response.text)\n",
    "    print(page_url)\n",
    "    print(f\"Page-{counter} up 👍\")\n",
    "    counter += 1\n",
    "    next_page = content_html.css_first(\"ul.page-numbers li a.next\")\n",
    "    if next_page is not None:\n",
    "        next_page_url = next_page.attrs[\"href\"]\n",
    "        get_all_page_urls(next_page_url, counter)"
   ]
  },
  {
   "cell_type": "code",
   "execution_count": 22,
   "metadata": {},
   "outputs": [
    {
     "name": "stdout",
     "output_type": "stream",
     "text": [
      "https://gopher1.extrkt.com/\n",
      "Page-1 up 👍\n",
      "https://gopher1.extrkt.com/?paged=2\n",
      "Page-2 up 👍\n",
      "https://gopher1.extrkt.com/?paged=3\n",
      "Page-3 up 👍\n",
      "https://gopher1.extrkt.com/?paged=4\n",
      "Page-4 up 👍\n",
      "https://gopher1.extrkt.com/?paged=5\n",
      "Page-5 up 👍\n",
      "https://gopher1.extrkt.com/?paged=6\n",
      "Page-6 up 👍\n",
      "https://gopher1.extrkt.com/?paged=7\n",
      "Page-7 up 👍\n",
      "https://gopher1.extrkt.com/?paged=8\n",
      "Page-8 up 👍\n",
      "https://gopher1.extrkt.com/?paged=9\n",
      "Page-9 up 👍\n",
      "https://gopher1.extrkt.com/?paged=10\n",
      "Page-10 up 👍\n",
      "https://gopher1.extrkt.com/?paged=11\n",
      "Page-11 up 👍\n",
      "https://gopher1.extrkt.com/?paged=12\n",
      "Page-12 up 👍\n"
     ]
    }
   ],
   "source": [
    "get_all_page_urls(ROOT_URL)"
   ]
  },
  {
   "cell_type": "markdown",
   "metadata": {},
   "source": [
    "### Crawling with Wait and Header Rotate"
   ]
  },
  {
   "cell_type": "code",
   "execution_count": 23,
   "metadata": {},
   "outputs": [
    {
     "name": "stdout",
     "output_type": "stream",
     "text": [
      "Mozilla/5.0 (X11; Linux x86_64; rv:109.0) Gecko/20100101 Firefox/117.0\n",
      "Mozilla/5.0 (Windows NT 10.0; Win64; x64) AppleWebKit/537.36 (KHTML, like Gecko) Chrome/114.0.0.0 Safari/537.36\n",
      "Mozilla/5.0 (Macintosh; Intel Mac OS X 10_15_7) AppleWebKit/537.36 (KHTML, like Gecko) Chrome/114.0.0.0 Safari/537.36\n",
      "Mozilla/5.0 (Windows NT 10.0; Win64; x64) AppleWebKit/537.36 (KHTML, like Gecko) Chrome/109.0.0.0 Safari/537.36\n",
      "Mozilla/5.0 (Macintosh; Intel Mac OS X 10_15_7) AppleWebKit/537.36 (KHTML, like Gecko) Chrome/117.0.0.0 Safari/537.36\n"
     ]
    }
   ],
   "source": [
    "from fake_useragent import UserAgent\n",
    "\n",
    "user_agent = UserAgent()\n",
    "\n",
    "for _ in range(5):\n",
    "    random_user_agent = user_agent.random\n",
    "    print(random_user_agent)"
   ]
  },
  {
   "cell_type": "code",
   "execution_count": 24,
   "metadata": {},
   "outputs": [],
   "source": [
    "RANDOM_HEADERS = {\"User-Agent\": user_agent.random, \"accept-language\": \"en-US\"}\n",
    "TIMEOUT = 100"
   ]
  },
  {
   "cell_type": "code",
   "execution_count": 25,
   "metadata": {},
   "outputs": [
    {
     "name": "stdout",
     "output_type": "stream",
     "text": [
      "Slept for 4 💤\n"
     ]
    },
    {
     "ename": "KeyboardInterrupt",
     "evalue": "",
     "output_type": "error",
     "traceback": [
      "\u001b[1;31m---------------------------------------------------------------------------\u001b[0m",
      "\u001b[1;31mKeyboardInterrupt\u001b[0m                         Traceback (most recent call last)",
      "Cell \u001b[1;32mIn[25], line 7\u001b[0m\n\u001b[0;32m      5\u001b[0m \u001b[38;5;28;01mfor\u001b[39;00m _ \u001b[38;5;129;01min\u001b[39;00m \u001b[38;5;28mrange\u001b[39m(\u001b[38;5;241m5\u001b[39m):\n\u001b[0;32m      6\u001b[0m     sleep_sec \u001b[38;5;241m=\u001b[39m random\u001b[38;5;241m.\u001b[39mrandint(\u001b[38;5;241m1\u001b[39m, \u001b[38;5;241m5\u001b[39m)\n\u001b[1;32m----> 7\u001b[0m     \u001b[43mtime\u001b[49m\u001b[38;5;241;43m.\u001b[39;49m\u001b[43msleep\u001b[49m\u001b[43m(\u001b[49m\u001b[43msleep_sec\u001b[49m\u001b[43m)\u001b[49m\n\u001b[0;32m      8\u001b[0m     \u001b[38;5;28mprint\u001b[39m(\u001b[38;5;124mf\u001b[39m\u001b[38;5;124m\"\u001b[39m\u001b[38;5;124mSlept for \u001b[39m\u001b[38;5;132;01m{\u001b[39;00msleep_sec\u001b[38;5;132;01m}\u001b[39;00m\u001b[38;5;124m 💤\u001b[39m\u001b[38;5;124m\"\u001b[39m)\n\u001b[0;32m      9\u001b[0m end_time \u001b[38;5;241m=\u001b[39m time\u001b[38;5;241m.\u001b[39mtime()\n",
      "\u001b[1;31mKeyboardInterrupt\u001b[0m: "
     ]
    }
   ],
   "source": [
    "import time\n",
    "import random\n",
    "\n",
    "start_time = time.time()\n",
    "for _ in range(5):\n",
    "    sleep_sec = random.randint(1, 5)\n",
    "    time.sleep(sleep_sec)\n",
    "    print(f\"Slept for {sleep_sec} 💤\")\n",
    "end_time = time.time()\n",
    "\n",
    "print(f\"Process time taken: {end_time - start_time:.2f} seconds\")"
   ]
  },
  {
   "cell_type": "code",
   "execution_count": null,
   "metadata": {},
   "outputs": [],
   "source": [
    "def get_all_page_urls(page_url: str, counter: int=1):\n",
    "    random_headers = {\"User-Agent\": user_agent.random, \"accept-language\": \"en-US\"}\n",
    "    sleep_sec = random.randint(1, 5)\n",
    "    site_response = httpx.get(page_url, headers=random_headers, timeout=TIMEOUT)\n",
    "    print(f\"Random Header is: {random_headers}\")\n",
    "    content_html = HTMLParser(site_response.text)\n",
    "    print(page_url)\n",
    "    print(f\"Page-{counter} up 👍\")\n",
    "    counter += 1\n",
    "    next_page = content_html.css_first(\"ul.page-numbers li a.next\")\n",
    "    time.sleep(sleep_sec)\n",
    "    print(f\"Slept for {sleep_sec} seconds 💤\")\n",
    "    print(\"========> ..... <========\\n\")\n",
    "    if next_page is not None:\n",
    "        next_page_url = next_page.attrs[\"href\"]\n",
    "        get_all_page_urls(next_page_url, counter)"
   ]
  },
  {
   "cell_type": "code",
   "execution_count": null,
   "metadata": {},
   "outputs": [
    {
     "name": "stdout",
     "output_type": "stream",
     "text": [
      "Random Header is: {'User-Agent': 'Mozilla/5.0 (Windows NT 10.0; Win64; x64) AppleWebKit/537.36 (KHTML, like Gecko) Chrome/117.0.0.0 Safari/537.36 Edg/117.0.2045.41', 'accept-language': 'en-US'}\n",
      "https://gopher1.extrkt.com/\n",
      "Page-1 up 👍\n",
      "Slept for 3 seconds 💤\n",
      "========> ..... <========\n",
      "\n",
      "Random Header is: {'User-Agent': 'Mozilla/5.0 (Windows NT 10.0; Win64; x64) AppleWebKit/537.36 (KHTML, like Gecko) Chrome/116.0.0.0 Safari/537.36 OPR/102.0.0.0', 'accept-language': 'en-US'}\n",
      "https://gopher1.extrkt.com/?paged=2\n",
      "Page-2 up 👍\n",
      "Slept for 2 seconds 💤\n",
      "========> ..... <========\n",
      "\n",
      "Random Header is: {'User-Agent': 'Mozilla/5.0 (Windows NT 10.0; Win64; x64) AppleWebKit/537.36 (KHTML, like Gecko) Chrome/116.0.0.0 Safari/537.36 Edg/116.0.1938.76', 'accept-language': 'en-US'}\n",
      "https://gopher1.extrkt.com/?paged=3\n",
      "Page-3 up 👍\n",
      "Slept for 4 seconds 💤\n",
      "========> ..... <========\n",
      "\n",
      "Random Header is: {'User-Agent': 'Mozilla/5.0 (Macintosh; Intel Mac OS X 10.15; rv:109.0) Gecko/20100101 Firefox/117.0', 'accept-language': 'en-US'}\n",
      "https://gopher1.extrkt.com/?paged=4\n",
      "Page-4 up 👍\n",
      "Slept for 1 seconds 💤\n",
      "========> ..... <========\n",
      "\n",
      "Random Header is: {'User-Agent': 'Mozilla/5.0 (Windows NT 10.0; Win64; x64) AppleWebKit/537.36 (KHTML, like Gecko) Chrome/113.0.0.0 Safari/537.36', 'accept-language': 'en-US'}\n",
      "https://gopher1.extrkt.com/?paged=5\n",
      "Page-5 up 👍\n",
      "Slept for 5 seconds 💤\n",
      "========> ..... <========\n",
      "\n",
      "Random Header is: {'User-Agent': 'Mozilla/5.0 (X11; Ubuntu; Linux x86_64; rv:109.0) Gecko/20100101 Firefox/116.0', 'accept-language': 'en-US'}\n",
      "https://gopher1.extrkt.com/?paged=6\n",
      "Page-6 up 👍\n",
      "Slept for 3 seconds 💤\n",
      "========> ..... <========\n",
      "\n",
      "Random Header is: {'User-Agent': 'Mozilla/5.0 (Windows NT 10.0; Win64; x64) AppleWebKit/537.36 (KHTML, like Gecko) Chrome/115.0.0.0 Safari/537.36', 'accept-language': 'en-US'}\n",
      "https://gopher1.extrkt.com/?paged=7\n",
      "Page-7 up 👍\n",
      "Slept for 4 seconds 💤\n",
      "========> ..... <========\n",
      "\n",
      "Random Header is: {'User-Agent': 'Mozilla/5.0 (Windows NT 10.0; Win64; x64) AppleWebKit/537.36 (KHTML, like Gecko) Chrome/116.0.0.0 Safari/537.36 OPR/102.0.0.0', 'accept-language': 'en-US'}\n",
      "https://gopher1.extrkt.com/?paged=8\n",
      "Page-8 up 👍\n",
      "Slept for 1 seconds 💤\n",
      "========> ..... <========\n",
      "\n",
      "Random Header is: {'User-Agent': 'Mozilla/5.0 (X11; Linux x86_64; rv:109.0) Gecko/20100101 Firefox/116.0', 'accept-language': 'en-US'}\n",
      "https://gopher1.extrkt.com/?paged=9\n",
      "Page-9 up 👍\n",
      "Slept for 3 seconds 💤\n",
      "========> ..... <========\n",
      "\n",
      "Random Header is: {'User-Agent': 'Mozilla/5.0 (X11; Ubuntu; Linux x86_64; rv:109.0) Gecko/20100101 Firefox/117.0', 'accept-language': 'en-US'}\n",
      "https://gopher1.extrkt.com/?paged=10\n",
      "Page-10 up 👍\n",
      "Slept for 1 seconds 💤\n",
      "========> ..... <========\n",
      "\n",
      "Random Header is: {'User-Agent': 'Mozilla/5.0 (X11; Linux x86_64; rv:109.0) Gecko/20100101 Firefox/118.0', 'accept-language': 'en-US'}\n",
      "https://gopher1.extrkt.com/?paged=11\n",
      "Page-11 up 👍\n",
      "Slept for 2 seconds 💤\n",
      "========> ..... <========\n",
      "\n",
      "Random Header is: {'User-Agent': 'Mozilla/5.0 (Macintosh; Intel Mac OS X 10_15_7) AppleWebKit/605.1.15 (KHTML, like Gecko) Version/17.0 Safari/605.1.15', 'accept-language': 'en-US'}\n",
      "https://gopher1.extrkt.com/?paged=12\n",
      "Page-12 up 👍\n",
      "Slept for 2 seconds 💤\n",
      "========> ..... <========\n",
      "\n",
      "Crawl time taken: 42.68 seconds\n"
     ]
    }
   ],
   "source": [
    "start_time = time.time()\n",
    "get_all_page_urls(ROOT_URL)\n",
    "end_time = time.time()\n",
    "print(f\"Crawl time taken: {end_time - start_time:.2f} seconds\")"
   ]
  },
  {
   "cell_type": "code",
   "execution_count": 28,
   "metadata": {},
   "outputs": [],
   "source": [
    "from csv import DictReader"
   ]
  },
  {
   "cell_type": "code",
   "execution_count": 31,
   "metadata": {},
   "outputs": [],
   "source": [
    "with open(\"../data/data.csv\", \"r\", encoding=\"utf-8\") as f:\n",
    "    csv_reader = DictReader(f)\n",
    "    for row in csv_reader:\n",
    "        print(row)"
   ]
  },
  {
   "cell_type": "code",
   "execution_count": null,
   "metadata": {},
   "outputs": [
    {
     "data": {
      "text/plain": [
       "0"
      ]
     },
     "execution_count": 7,
     "metadata": {},
     "output_type": "execute_result"
    }
   ],
   "source": [
    "open(\"../data/data.csv\", \"w\", encoding=\"utf-8\").truncate()\n"
   ]
  },
  {
   "cell_type": "code",
   "execution_count": null,
   "metadata": {},
   "outputs": [
    {
     "ename": "NameError",
     "evalue": "name 'parsed_html' is not defined",
     "output_type": "error",
     "traceback": [
      "\u001b[1;31m---------------------------------------------------------------------------\u001b[0m",
      "\u001b[1;31mNameError\u001b[0m                                 Traceback (most recent call last)",
      "Cell \u001b[1;32mIn[9], line 1\u001b[0m\n\u001b[1;32m----> 1\u001b[0m \u001b[38;5;28mtype\u001b[39m(\u001b[43mparsed_html\u001b[49m)\n",
      "\u001b[1;31mNameError\u001b[0m: name 'parsed_html' is not defined"
     ]
    }
   ],
   "source": [
    "type(parsed_html)"
   ]
  },
  {
   "cell_type": "code",
   "execution_count": null,
   "metadata": {},
   "outputs": [],
   "source": [
    "# read csv file"
   ]
  },
  {
   "cell_type": "code",
   "execution_count": 33,
   "metadata": {},
   "outputs": [
    {
     "name": "stdout",
     "output_type": "stream",
     "text": [
      "<csv.DictReader object at 0x000001516B6E3730>\n",
      "<class 'csv.DictReader'>\n"
     ]
    }
   ],
   "source": [
    "with open(\"../data/external/products_link.csv\", \"r\", encoding=\"utf-8\") as f:\n",
    "    csv_reader = DictReader(f)\n",
    "    print(csv_reader)\n",
    "    print(type(csv_reader))"
   ]
  },
  {
   "cell_type": "code",
   "execution_count": 1,
   "metadata": {},
   "outputs": [],
   "source": [
    "import os"
   ]
  },
  {
   "cell_type": "code",
   "execution_count": 2,
   "metadata": {},
   "outputs": [],
   "source": [
    "os.chdir(\"../\")"
   ]
  },
  {
   "cell_type": "code",
   "execution_count": 3,
   "metadata": {},
   "outputs": [],
   "source": [
    "from src.utils.basic_utils import read_csv"
   ]
  },
  {
   "cell_type": "code",
   "execution_count": 4,
   "metadata": {},
   "outputs": [
    {
     "name": "stdout",
     "output_type": "stream",
     "text": [
      "[2024-02-03 10:38:45 PM]:ProjectLogger INFO:basic_utils    111 - CSV file: data\\external\\products_link.csv loaded successfully\n"
     ]
    },
    {
     "data": {
      "text/plain": [
       "[{'page_number': '1',\n",
       "  'page_url': 'https://gopher1.extrkt.com/',\n",
       "  'product_url': 'https://gopher1.extrkt.com/?product=abominable-hoodie'},\n",
       " {'page_number': '1',\n",
       "  'page_url': 'https://gopher1.extrkt.com/',\n",
       "  'product_url': 'https://gopher1.extrkt.com/?product=adrienne-trek-jacket'},\n",
       " {'page_number': '1',\n",
       "  'page_url': 'https://gopher1.extrkt.com/',\n",
       "  'product_url': 'https://gopher1.extrkt.com/?product=aeon-capri'},\n",
       " {'page_number': '1',\n",
       "  'page_url': 'https://gopher1.extrkt.com/',\n",
       "  'product_url': 'https://gopher1.extrkt.com/?product=aero-daily-fitness-tee'},\n",
       " {'page_number': '1',\n",
       "  'page_url': 'https://gopher1.extrkt.com/',\n",
       "  'product_url': 'https://gopher1.extrkt.com/?product=aether-gym-pant'},\n",
       " {'page_number': '1',\n",
       "  'page_url': 'https://gopher1.extrkt.com/',\n",
       "  'product_url': 'https://gopher1.extrkt.com/?product=affirm-water-bottle'},\n",
       " {'page_number': '1',\n",
       "  'page_url': 'https://gopher1.extrkt.com/',\n",
       "  'product_url': 'https://gopher1.extrkt.com/?product=aim-analog-watch'},\n",
       " {'page_number': '1',\n",
       "  'page_url': 'https://gopher1.extrkt.com/',\n",
       "  'product_url': 'https://gopher1.extrkt.com/?product=ajax-full-zip-sweatshirt'},\n",
       " {'page_number': '1',\n",
       "  'page_url': 'https://gopher1.extrkt.com/',\n",
       "  'product_url': 'https://gopher1.extrkt.com/?product=ana-running-short'},\n",
       " {'page_number': '1',\n",
       "  'page_url': 'https://gopher1.extrkt.com/',\n",
       "  'product_url': 'https://gopher1.extrkt.com/?product=angel-light-running-short'},\n",
       " {'page_number': '1',\n",
       "  'page_url': 'https://gopher1.extrkt.com/',\n",
       "  'product_url': 'https://gopher1.extrkt.com/?product=antonia-racer-tank'},\n",
       " {'page_number': '1',\n",
       "  'page_url': 'https://gopher1.extrkt.com/',\n",
       "  'product_url': 'https://gopher1.extrkt.com/?product=apollo-running-short'},\n",
       " {'page_number': '1',\n",
       "  'page_url': 'https://gopher1.extrkt.com/',\n",
       "  'product_url': 'https://gopher1.extrkt.com/?product=arcadio-gym-short'},\n",
       " {'page_number': '1',\n",
       "  'page_url': 'https://gopher1.extrkt.com/',\n",
       "  'product_url': 'https://gopher1.extrkt.com/?product=argus-all-weather-tank'},\n",
       " {'page_number': '1',\n",
       "  'page_url': 'https://gopher1.extrkt.com/',\n",
       "  'product_url': 'https://gopher1.extrkt.com/?product=ariel-roll-sleeve-sweatshirt'},\n",
       " {'page_number': '1',\n",
       "  'page_url': 'https://gopher1.extrkt.com/',\n",
       "  'product_url': 'https://gopher1.extrkt.com/?product=artemis-running-short'},\n",
       " {'page_number': '2',\n",
       "  'page_url': 'https://gopher1.extrkt.com/?paged=2',\n",
       "  'product_url': 'https://gopher1.extrkt.com/?product=atlas-fitness-tank'},\n",
       " {'page_number': '2',\n",
       "  'page_url': 'https://gopher1.extrkt.com/?paged=2',\n",
       "  'product_url': 'https://gopher1.extrkt.com/?product=atomic-endurance-running-tee-crew-neck'},\n",
       " {'page_number': '2',\n",
       "  'page_url': 'https://gopher1.extrkt.com/?paged=2',\n",
       "  'product_url': 'https://gopher1.extrkt.com/?product=atomic-endurance-running-tee-v-neck'},\n",
       " {'page_number': '2',\n",
       "  'page_url': 'https://gopher1.extrkt.com/?paged=2',\n",
       "  'product_url': 'https://gopher1.extrkt.com/?product=augusta-pullover-jacket'},\n",
       " {'page_number': '2',\n",
       "  'page_url': 'https://gopher1.extrkt.com/?paged=2',\n",
       "  'product_url': 'https://gopher1.extrkt.com/?product=autumn-pullie'},\n",
       " {'page_number': '2',\n",
       "  'page_url': 'https://gopher1.extrkt.com/?paged=2',\n",
       "  'product_url': 'https://gopher1.extrkt.com/?product=balboa-persistence-tee'},\n",
       " {'page_number': '2',\n",
       "  'page_url': 'https://gopher1.extrkt.com/?paged=2',\n",
       "  'product_url': 'https://gopher1.extrkt.com/?product=bardot-capri'},\n",
       " {'page_number': '2',\n",
       "  'page_url': 'https://gopher1.extrkt.com/?paged=2',\n",
       "  'product_url': 'https://gopher1.extrkt.com/?product=beaumont-summit-kit'},\n",
       " {'page_number': '2',\n",
       "  'page_url': 'https://gopher1.extrkt.com/?paged=2',\n",
       "  'product_url': 'https://gopher1.extrkt.com/?product=bella-tank'},\n",
       " {'page_number': '2',\n",
       "  'page_url': 'https://gopher1.extrkt.com/?paged=2',\n",
       "  'product_url': 'https://gopher1.extrkt.com/?product=bess-yoga-short'},\n",
       " {'page_number': '2',\n",
       "  'page_url': 'https://gopher1.extrkt.com/?paged=2',\n",
       "  'product_url': 'https://gopher1.extrkt.com/?product=bolo-sport-watch'},\n",
       " {'page_number': '2',\n",
       "  'page_url': 'https://gopher1.extrkt.com/?paged=2',\n",
       "  'product_url': 'https://gopher1.extrkt.com/?product=breathe-easy-tank'},\n",
       " {'page_number': '2',\n",
       "  'page_url': 'https://gopher1.extrkt.com/?paged=2',\n",
       "  'product_url': 'https://gopher1.extrkt.com/?product=bruno-compete-hoodie'},\n",
       " {'page_number': '2',\n",
       "  'page_url': 'https://gopher1.extrkt.com/?paged=2',\n",
       "  'product_url': 'https://gopher1.extrkt.com/?product=caesar-warm-up-pant'},\n",
       " {'page_number': '2',\n",
       "  'page_url': 'https://gopher1.extrkt.com/?paged=2',\n",
       "  'product_url': 'https://gopher1.extrkt.com/?product=carina-basic-capri'},\n",
       " {'page_number': '2',\n",
       "  'page_url': 'https://gopher1.extrkt.com/?paged=2',\n",
       "  'product_url': 'https://gopher1.extrkt.com/?product=cassia-funnel-sweatshirt'},\n",
       " {'page_number': '3',\n",
       "  'page_url': 'https://gopher1.extrkt.com/?paged=3',\n",
       "  'product_url': 'https://gopher1.extrkt.com/?product=cassius-sparring-tank'},\n",
       " {'page_number': '3',\n",
       "  'page_url': 'https://gopher1.extrkt.com/?paged=3',\n",
       "  'product_url': 'https://gopher1.extrkt.com/?product=celeste-sports-bra'},\n",
       " {'page_number': '3',\n",
       "  'page_url': 'https://gopher1.extrkt.com/?paged=3',\n",
       "  'product_url': 'https://gopher1.extrkt.com/?product=chaz-kangeroo-hoodie'},\n",
       " {'page_number': '3',\n",
       "  'page_url': 'https://gopher1.extrkt.com/?paged=3',\n",
       "  'product_url': 'https://gopher1.extrkt.com/?product=chloe-compete-tank'},\n",
       " {'page_number': '3',\n",
       "  'page_url': 'https://gopher1.extrkt.com/?paged=3',\n",
       "  'product_url': 'https://gopher1.extrkt.com/?product=circe-hooded-ice-fleece'},\n",
       " {'page_number': '3',\n",
       "  'page_url': 'https://gopher1.extrkt.com/?paged=3',\n",
       "  'product_url': 'https://gopher1.extrkt.com/?product=clamber-watch'},\n",
       " {'page_number': '3',\n",
       "  'page_url': 'https://gopher1.extrkt.com/?paged=3',\n",
       "  'product_url': 'https://gopher1.extrkt.com/?product=cobalt-cooltech-fitness-short'},\n",
       " {'page_number': '3',\n",
       "  'page_url': 'https://gopher1.extrkt.com/?paged=3',\n",
       "  'product_url': 'https://gopher1.extrkt.com/?product=compete-track-tote'},\n",
       " {'page_number': '3',\n",
       "  'page_url': 'https://gopher1.extrkt.com/?paged=3',\n",
       "  'product_url': 'https://gopher1.extrkt.com/?product=cora-parachute-pant'},\n",
       " {'page_number': '3',\n",
       "  'page_url': 'https://gopher1.extrkt.com/?paged=3',\n",
       "  'product_url': 'https://gopher1.extrkt.com/?product=cronus-yoga-pant'},\n",
       " {'page_number': '3',\n",
       "  'page_url': 'https://gopher1.extrkt.com/?paged=3',\n",
       "  'product_url': 'https://gopher1.extrkt.com/?product=crown-summit-backpack'},\n",
       " {'page_number': '3',\n",
       "  'page_url': 'https://gopher1.extrkt.com/?paged=3',\n",
       "  'product_url': 'https://gopher1.extrkt.com/?product=cruise-dual-analog-watch'},\n",
       " {'page_number': '3',\n",
       "  'page_url': 'https://gopher1.extrkt.com/?paged=3',\n",
       "  'product_url': 'https://gopher1.extrkt.com/?product=daphne-full-zip-hoodie'},\n",
       " {'page_number': '3',\n",
       "  'page_url': 'https://gopher1.extrkt.com/?paged=3',\n",
       "  'product_url': 'https://gopher1.extrkt.com/?product=daria-bikram-pant'},\n",
       " {'page_number': '3',\n",
       "  'page_url': 'https://gopher1.extrkt.com/?paged=3',\n",
       "  'product_url': 'https://gopher1.extrkt.com/?product=dash-digital-watch'},\n",
       " {'page_number': '3',\n",
       "  'page_url': 'https://gopher1.extrkt.com/?paged=3',\n",
       "  'product_url': 'https://gopher1.extrkt.com/?product=deion-long-sleeve-evercool-tee'},\n",
       " {'page_number': '4',\n",
       "  'page_url': 'https://gopher1.extrkt.com/?paged=4',\n",
       "  'product_url': 'https://gopher1.extrkt.com/?product=deirdre-relaxed-fit-capri'},\n",
       " {'page_number': '4',\n",
       "  'page_url': 'https://gopher1.extrkt.com/?paged=4',\n",
       "  'product_url': 'https://gopher1.extrkt.com/?product=desiree-fitness-tee'},\n",
       " {'page_number': '4',\n",
       "  'page_url': 'https://gopher1.extrkt.com/?paged=4',\n",
       "  'product_url': 'https://gopher1.extrkt.com/?product=diana-tights'},\n",
       " {'page_number': '4',\n",
       "  'page_url': 'https://gopher1.extrkt.com/?paged=4',\n",
       "  'product_url': 'https://gopher1.extrkt.com/?product=didi-sport-watch'},\n",
       " {'page_number': '4',\n",
       "  'page_url': 'https://gopher1.extrkt.com/?paged=4',\n",
       "  'product_url': 'https://gopher1.extrkt.com/?product=diva-gym-tee'},\n",
       " {'page_number': '4',\n",
       "  'page_url': 'https://gopher1.extrkt.com/?paged=4',\n",
       "  'product_url': 'https://gopher1.extrkt.com/?product=driven-backpack'},\n",
       " {'page_number': '4',\n",
       "  'page_url': 'https://gopher1.extrkt.com/?paged=4',\n",
       "  'product_url': 'https://gopher1.extrkt.com/?product=dual-handle-cardio-ball'},\n",
       " {'page_number': '4',\n",
       "  'page_url': 'https://gopher1.extrkt.com/?paged=4',\n",
       "  'product_url': 'https://gopher1.extrkt.com/?product=echo-fit-compression-short'},\n",
       " {'page_number': '4',\n",
       "  'page_url': 'https://gopher1.extrkt.com/?paged=4',\n",
       "  'product_url': 'https://gopher1.extrkt.com/?product=electra-bra-top'},\n",
       " {'page_number': '4',\n",
       "  'page_url': 'https://gopher1.extrkt.com/?paged=4',\n",
       "  'product_url': 'https://gopher1.extrkt.com/?product=elisa-evercool-tee'},\n",
       " {'page_number': '4',\n",
       "  'page_url': 'https://gopher1.extrkt.com/?paged=4',\n",
       "  'product_url': 'https://gopher1.extrkt.com/?product=emma-leggings'},\n",
       " {'page_number': '4',\n",
       "  'page_url': 'https://gopher1.extrkt.com/?paged=4',\n",
       "  'product_url': 'https://gopher1.extrkt.com/?product=endeavor-daytrip-backpack'},\n",
       " {'page_number': '4',\n",
       "  'page_url': 'https://gopher1.extrkt.com/?paged=4',\n",
       "  'product_url': 'https://gopher1.extrkt.com/?product=endurance-watch'},\n",
       " {'page_number': '4',\n",
       "  'page_url': 'https://gopher1.extrkt.com/?paged=4',\n",
       "  'product_url': 'https://gopher1.extrkt.com/?product=eos-v-neck-hoodie'},\n",
       " {'page_number': '4',\n",
       "  'page_url': 'https://gopher1.extrkt.com/?paged=4',\n",
       "  'product_url': 'https://gopher1.extrkt.com/?product=erica-evercool-sports-bra'},\n",
       " {'page_number': '4',\n",
       "  'page_url': 'https://gopher1.extrkt.com/?paged=4',\n",
       "  'product_url': 'https://gopher1.extrkt.com/?product=erika-running-short'},\n",
       " {'page_number': '5',\n",
       "  'page_url': 'https://gopher1.extrkt.com/?paged=5',\n",
       "  'product_url': 'https://gopher1.extrkt.com/?product=erikssen-cooltech-fitness-tank'},\n",
       " {'page_number': '5',\n",
       "  'page_url': 'https://gopher1.extrkt.com/?paged=5',\n",
       "  'product_url': 'https://gopher1.extrkt.com/?product=fiona-fitness-short'},\n",
       " {'page_number': '5',\n",
       "  'page_url': 'https://gopher1.extrkt.com/?paged=5',\n",
       "  'product_url': 'https://gopher1.extrkt.com/?product=frankie-sweatshirt'},\n",
       " {'page_number': '5',\n",
       "  'page_url': 'https://gopher1.extrkt.com/?paged=5',\n",
       "  'product_url': 'https://gopher1.extrkt.com/?product=fusion-backpack'},\n",
       " {'page_number': '5',\n",
       "  'page_url': 'https://gopher1.extrkt.com/?paged=5',\n",
       "  'product_url': 'https://gopher1.extrkt.com/?product=gabrielle-micro-sleeve-top'},\n",
       " {'page_number': '5',\n",
       "  'page_url': 'https://gopher1.extrkt.com/?paged=5',\n",
       "  'product_url': 'https://gopher1.extrkt.com/?product=geo-insulated-jogging-pant'},\n",
       " {'page_number': '5',\n",
       "  'page_url': 'https://gopher1.extrkt.com/?paged=5',\n",
       "  'product_url': 'https://gopher1.extrkt.com/?product=go-getr-pushup-grips'},\n",
       " {'page_number': '5',\n",
       "  'page_url': 'https://gopher1.extrkt.com/?paged=5',\n",
       "  'product_url': 'https://gopher1.extrkt.com/?product=gobi-heattec-tee'},\n",
       " {'page_number': '5',\n",
       "  'page_url': 'https://gopher1.extrkt.com/?paged=5',\n",
       "  'product_url': 'https://gopher1.extrkt.com/?product=grayson-crewneck-sweatshirt'},\n",
       " {'page_number': '5',\n",
       "  'page_url': 'https://gopher1.extrkt.com/?paged=5',\n",
       "  'product_url': 'https://gopher1.extrkt.com/?product=gwen-drawstring-bike-short'},\n",
       " {'page_number': '5',\n",
       "  'page_url': 'https://gopher1.extrkt.com/?paged=5',\n",
       "  'product_url': 'https://gopher1.extrkt.com/?product=gwyn-endurance-tee'},\n",
       " {'page_number': '5',\n",
       "  'page_url': 'https://gopher1.extrkt.com/?paged=5',\n",
       "  'product_url': 'https://gopher1.extrkt.com/?product=harmony-lumaflex-strength-band-kit'},\n",
       " {'page_number': '5',\n",
       "  'page_url': 'https://gopher1.extrkt.com/?paged=5',\n",
       "  'product_url': 'https://gopher1.extrkt.com/?product=hawkeye-yoga-short'},\n",
       " {'page_number': '5',\n",
       "  'page_url': 'https://gopher1.extrkt.com/?paged=5',\n",
       "  'product_url': 'https://gopher1.extrkt.com/?product=helena-hooded-fleece'},\n",
       " {'page_number': '5',\n",
       "  'page_url': 'https://gopher1.extrkt.com/?paged=5',\n",
       "  'product_url': 'https://gopher1.extrkt.com/?product=helios-endurance-tank'},\n",
       " {'page_number': '5',\n",
       "  'page_url': 'https://gopher1.extrkt.com/?paged=5',\n",
       "  'product_url': 'https://gopher1.extrkt.com/?product=helios-evercool-tee'},\n",
       " {'page_number': '6',\n",
       "  'page_url': 'https://gopher1.extrkt.com/?paged=6',\n",
       "  'product_url': 'https://gopher1.extrkt.com/?product=hera-pullover-hoodie'},\n",
       " {'page_number': '6',\n",
       "  'page_url': 'https://gopher1.extrkt.com/?paged=6',\n",
       "  'product_url': 'https://gopher1.extrkt.com/?product=hero-hoodie'},\n",
       " {'page_number': '6',\n",
       "  'page_url': 'https://gopher1.extrkt.com/?paged=6',\n",
       "  'product_url': 'https://gopher1.extrkt.com/?product=hollister-backyard-sweatshirt'},\n",
       " {'page_number': '6',\n",
       "  'page_url': 'https://gopher1.extrkt.com/?paged=6',\n",
       "  'product_url': 'https://gopher1.extrkt.com/?product=hyperion-elements-jacket'},\n",
       " {'page_number': '6',\n",
       "  'page_url': 'https://gopher1.extrkt.com/?paged=6',\n",
       "  'product_url': 'https://gopher1.extrkt.com/?product=ida-workout-parachute-pant'},\n",
       " {'page_number': '6',\n",
       "  'page_url': 'https://gopher1.extrkt.com/?paged=6',\n",
       "  'product_url': 'https://gopher1.extrkt.com/?product=impulse-duffle'},\n",
       " {'page_number': '6',\n",
       "  'page_url': 'https://gopher1.extrkt.com/?paged=6',\n",
       "  'product_url': 'https://gopher1.extrkt.com/?product=ina-compression-short'},\n",
       " {'page_number': '6',\n",
       "  'page_url': 'https://gopher1.extrkt.com/?paged=6',\n",
       "  'product_url': 'https://gopher1.extrkt.com/?product=inez-full-zip-jacket'},\n",
       " {'page_number': '6',\n",
       "  'page_url': 'https://gopher1.extrkt.com/?paged=6',\n",
       "  'product_url': 'https://gopher1.extrkt.com/?product=ingrid-running-jacket'},\n",
       " {'page_number': '6',\n",
       "  'page_url': 'https://gopher1.extrkt.com/?paged=6',\n",
       "  'product_url': 'https://gopher1.extrkt.com/?product=iris-workout-top'},\n",
       " {'page_number': '6',\n",
       "  'page_url': 'https://gopher1.extrkt.com/?paged=6',\n",
       "  'product_url': 'https://gopher1.extrkt.com/?product=jade-yoga-jacket'},\n",
       " {'page_number': '6',\n",
       "  'page_url': 'https://gopher1.extrkt.com/?paged=6',\n",
       "  'product_url': 'https://gopher1.extrkt.com/?product=josie-yoga-jacket'},\n",
       " {'page_number': '6',\n",
       "  'page_url': 'https://gopher1.extrkt.com/?paged=6',\n",
       "  'product_url': 'https://gopher1.extrkt.com/?product=joust-duffle-bag'},\n",
       " {'page_number': '6',\n",
       "  'page_url': 'https://gopher1.extrkt.com/?paged=6',\n",
       "  'product_url': 'https://gopher1.extrkt.com/?product=juliana-short-sleeve-tee'},\n",
       " {'page_number': '6',\n",
       "  'page_url': 'https://gopher1.extrkt.com/?paged=6',\n",
       "  'product_url': 'https://gopher1.extrkt.com/?product=juno-jacket'},\n",
       " {'page_number': '6',\n",
       "  'page_url': 'https://gopher1.extrkt.com/?paged=6',\n",
       "  'product_url': 'https://gopher1.extrkt.com/?product=jupiter-all-weather-trainer'},\n",
       " {'page_number': '7',\n",
       "  'page_url': 'https://gopher1.extrkt.com/?paged=7',\n",
       "  'product_url': 'https://gopher1.extrkt.com/?product=karissa-v-neck-tee'},\n",
       " {'page_number': '7',\n",
       "  'page_url': 'https://gopher1.extrkt.com/?paged=7',\n",
       "  'product_url': 'https://gopher1.extrkt.com/?product=karmen-yoga-pant'},\n",
       " {'page_number': '7',\n",
       "  'page_url': 'https://gopher1.extrkt.com/?paged=7',\n",
       "  'product_url': 'https://gopher1.extrkt.com/?product=kenobi-trail-jacket'},\n",
       " {'page_number': '7',\n",
       "  'page_url': 'https://gopher1.extrkt.com/?paged=7',\n",
       "  'product_url': 'https://gopher1.extrkt.com/?product=kratos-gym-pant'},\n",
       " {'page_number': '7',\n",
       "  'page_url': 'https://gopher1.extrkt.com/?paged=7',\n",
       "  'product_url': 'https://gopher1.extrkt.com/?product=lando-gym-jacket'},\n",
       " {'page_number': '7',\n",
       "  'page_url': 'https://gopher1.extrkt.com/?paged=7',\n",
       "  'product_url': 'https://gopher1.extrkt.com/?product=layla-tee'},\n",
       " {'page_number': '7',\n",
       "  'page_url': 'https://gopher1.extrkt.com/?paged=7',\n",
       "  'product_url': 'https://gopher1.extrkt.com/?product=leah-yoga-top'},\n",
       " {'page_number': '7',\n",
       "  'page_url': 'https://gopher1.extrkt.com/?paged=7',\n",
       "  'product_url': 'https://gopher1.extrkt.com/?product=livingston-all-purpose-tight'},\n",
       " {'page_number': '7',\n",
       "  'page_url': 'https://gopher1.extrkt.com/?paged=7',\n",
       "  'product_url': 'https://gopher1.extrkt.com/?product=logan-heattec-tee'},\n",
       " {'page_number': '7',\n",
       "  'page_url': 'https://gopher1.extrkt.com/?paged=7',\n",
       "  'product_url': 'https://gopher1.extrkt.com/?product=lono-yoga-short'},\n",
       " {'page_number': '7',\n",
       "  'page_url': 'https://gopher1.extrkt.com/?paged=7',\n",
       "  'product_url': 'https://gopher1.extrkt.com/?product=lucia-cross-fit-bra'},\n",
       " {'page_number': '7',\n",
       "  'page_url': 'https://gopher1.extrkt.com/?paged=7',\n",
       "  'product_url': 'https://gopher1.extrkt.com/?product=luma-analog-watch'},\n",
       " {'page_number': '7',\n",
       "  'page_url': 'https://gopher1.extrkt.com/?paged=7',\n",
       "  'product_url': 'https://gopher1.extrkt.com/?product=mach-street-sweatshirt'},\n",
       " {'page_number': '7',\n",
       "  'page_url': 'https://gopher1.extrkt.com/?paged=7',\n",
       "  'product_url': 'https://gopher1.extrkt.com/?product=marco-lightweight-active-hoodie'},\n",
       " {'page_number': '7',\n",
       "  'page_url': 'https://gopher1.extrkt.com/?paged=7',\n",
       "  'product_url': 'https://gopher1.extrkt.com/?product=mars-heattech-pullover'},\n",
       " {'page_number': '7',\n",
       "  'page_url': 'https://gopher1.extrkt.com/?paged=7',\n",
       "  'product_url': 'https://gopher1.extrkt.com/?product=maxima-drawstring-short'},\n",
       " {'page_number': '8',\n",
       "  'page_url': 'https://gopher1.extrkt.com/?paged=8',\n",
       "  'product_url': 'https://gopher1.extrkt.com/?product=maya-tunic'},\n",
       " {'page_number': '8',\n",
       "  'page_url': 'https://gopher1.extrkt.com/?paged=8',\n",
       "  'product_url': 'https://gopher1.extrkt.com/?product=meteor-workout-short'},\n",
       " {'page_number': '8',\n",
       "  'page_url': 'https://gopher1.extrkt.com/?paged=8',\n",
       "  'product_url': 'https://gopher1.extrkt.com/?product=miko-pullover-hoodie'},\n",
       " {'page_number': '8',\n",
       "  'page_url': 'https://gopher1.extrkt.com/?paged=8',\n",
       "  'product_url': 'https://gopher1.extrkt.com/?product=mimi-all-purpose-short'},\n",
       " {'page_number': '8',\n",
       "  'page_url': 'https://gopher1.extrkt.com/?paged=8',\n",
       "  'product_url': 'https://gopher1.extrkt.com/?product=minerva-lumatech-v-tee'},\n",
       " {'page_number': '8',\n",
       "  'page_url': 'https://gopher1.extrkt.com/?paged=8',\n",
       "  'product_url': 'https://gopher1.extrkt.com/?product=mithra-warmup-pant'},\n",
       " {'page_number': '8',\n",
       "  'page_url': 'https://gopher1.extrkt.com/?paged=8',\n",
       "  'product_url': 'https://gopher1.extrkt.com/?product=mona-pullover-hoodlie'},\n",
       " {'page_number': '8',\n",
       "  'page_url': 'https://gopher1.extrkt.com/?paged=8',\n",
       "  'product_url': 'https://gopher1.extrkt.com/?product=montana-wind-jacket'},\n",
       " {'page_number': '8',\n",
       "  'page_url': 'https://gopher1.extrkt.com/?paged=8',\n",
       "  'product_url': 'https://gopher1.extrkt.com/?product=nadia-elements-shell'},\n",
       " {'page_number': '8',\n",
       "  'page_url': 'https://gopher1.extrkt.com/?paged=8',\n",
       "  'product_url': 'https://gopher1.extrkt.com/?product=neve-studio-dance-jacket'},\n",
       " {'page_number': '8',\n",
       "  'page_url': 'https://gopher1.extrkt.com/?paged=8',\n",
       "  'product_url': 'https://gopher1.extrkt.com/?product=nona-fitness-tank'},\n",
       " {'page_number': '8',\n",
       "  'page_url': 'https://gopher1.extrkt.com/?paged=8',\n",
       "  'product_url': 'https://gopher1.extrkt.com/?product=nora-practice-tank'},\n",
       " {'page_number': '8',\n",
       "  'page_url': 'https://gopher1.extrkt.com/?paged=8',\n",
       "  'product_url': 'https://gopher1.extrkt.com/?product=olivia-1-4-zip-light-jacket'},\n",
       " {'page_number': '8',\n",
       "  'page_url': 'https://gopher1.extrkt.com/?paged=8',\n",
       "  'product_url': 'https://gopher1.extrkt.com/?product=orestes-fitness-short'},\n",
       " {'page_number': '8',\n",
       "  'page_url': 'https://gopher1.extrkt.com/?paged=8',\n",
       "  'product_url': 'https://gopher1.extrkt.com/?product=orestes-yoga-pant'},\n",
       " {'page_number': '8',\n",
       "  'page_url': 'https://gopher1.extrkt.com/?paged=8',\n",
       "  'product_url': 'https://gopher1.extrkt.com/?product=orion-two-tone-fitted-jacket'},\n",
       " {'page_number': '9',\n",
       "  'page_url': 'https://gopher1.extrkt.com/?paged=9',\n",
       "  'product_url': 'https://gopher1.extrkt.com/?product=oslo-trek-hoodie'},\n",
       " {'page_number': '9',\n",
       "  'page_url': 'https://gopher1.extrkt.com/?paged=9',\n",
       "  'product_url': 'https://gopher1.extrkt.com/?product=overnight-duffle'},\n",
       " {'page_number': '9',\n",
       "  'page_url': 'https://gopher1.extrkt.com/?paged=9',\n",
       "  'product_url': 'https://gopher1.extrkt.com/?product=phoebe-zipper-sweatshirt'},\n",
       " {'page_number': '9',\n",
       "  'page_url': 'https://gopher1.extrkt.com/?paged=9',\n",
       "  'product_url': 'https://gopher1.extrkt.com/?product=pierce-gym-short'},\n",
       " {'page_number': '9',\n",
       "  'page_url': 'https://gopher1.extrkt.com/?paged=9',\n",
       "  'product_url': 'https://gopher1.extrkt.com/?product=portia-capri'},\n",
       " {'page_number': '9',\n",
       "  'page_url': 'https://gopher1.extrkt.com/?paged=9',\n",
       "  'product_url': 'https://gopher1.extrkt.com/?product=prima-compete-bra-top'},\n",
       " {'page_number': '9',\n",
       "  'page_url': 'https://gopher1.extrkt.com/?paged=9',\n",
       "  'product_url': 'https://gopher1.extrkt.com/?product=primo-endurance-tank'},\n",
       " {'page_number': '9',\n",
       "  'page_url': 'https://gopher1.extrkt.com/?paged=9',\n",
       "  'product_url': 'https://gopher1.extrkt.com/?product=proteus-fitness-jackshirt'},\n",
       " {'page_number': '9',\n",
       "  'page_url': 'https://gopher1.extrkt.com/?paged=9',\n",
       "  'product_url': 'https://gopher1.extrkt.com/?product=pursuit-lumaflex-tone-band'},\n",
       " {'page_number': '9',\n",
       "  'page_url': 'https://gopher1.extrkt.com/?paged=9',\n",
       "  'product_url': 'https://gopher1.extrkt.com/?product=push-it-messenger-bag'},\n",
       " {'page_number': '9',\n",
       "  'page_url': 'https://gopher1.extrkt.com/?paged=9',\n",
       "  'product_url': 'https://gopher1.extrkt.com/?product=quest-lumaflex-band'},\n",
       " {'page_number': '9',\n",
       "  'page_url': 'https://gopher1.extrkt.com/?paged=9',\n",
       "  'product_url': 'https://gopher1.extrkt.com/?product=radiant-tee'},\n",
       " {'page_number': '9',\n",
       "  'page_url': 'https://gopher1.extrkt.com/?paged=9',\n",
       "  'product_url': 'https://gopher1.extrkt.com/?product=rapha-sports-short'},\n",
       " {'page_number': '9',\n",
       "  'page_url': 'https://gopher1.extrkt.com/?paged=9',\n",
       "  'product_url': 'https://gopher1.extrkt.com/?product=riona-full-zip-jacket'},\n",
       " {'page_number': '9',\n",
       "  'page_url': 'https://gopher1.extrkt.com/?paged=9',\n",
       "  'product_url': 'https://gopher1.extrkt.com/?product=rival-field-messenger'},\n",
       " {'page_number': '9',\n",
       "  'page_url': 'https://gopher1.extrkt.com/?paged=9',\n",
       "  'product_url': 'https://gopher1.extrkt.com/?product=rocco-gym-tank'},\n",
       " {'page_number': '10',\n",
       "  'page_url': 'https://gopher1.extrkt.com/?paged=10',\n",
       "  'product_url': 'https://gopher1.extrkt.com/?product=ryker-lumatech-tee-crew-neck'},\n",
       " {'page_number': '10',\n",
       "  'page_url': 'https://gopher1.extrkt.com/?paged=10',\n",
       "  'product_url': 'https://gopher1.extrkt.com/?product=ryker-lumatech-tee-v-neck'},\n",
       " {'page_number': '10',\n",
       "  'page_url': 'https://gopher1.extrkt.com/?paged=10',\n",
       "  'product_url': 'https://gopher1.extrkt.com/?product=sahara-leggings'},\n",
       " {'page_number': '10',\n",
       "  'page_url': 'https://gopher1.extrkt.com/?paged=10',\n",
       "  'product_url': 'https://gopher1.extrkt.com/?product=savvy-shoulder-tote'},\n",
       " {'page_number': '10',\n",
       "  'page_url': 'https://gopher1.extrkt.com/?paged=10',\n",
       "  'product_url': 'https://gopher1.extrkt.com/?product=selene-yoga-hoodie'},\n",
       " {'page_number': '10',\n",
       "  'page_url': 'https://gopher1.extrkt.com/?paged=10',\n",
       "  'product_url': 'https://gopher1.extrkt.com/?product=sinbad-fitness-tank'},\n",
       " {'page_number': '10',\n",
       "  'page_url': 'https://gopher1.extrkt.com/?paged=10',\n",
       "  'product_url': 'https://gopher1.extrkt.com/?product=sol-active-short'},\n",
       " {'page_number': '10',\n",
       "  'page_url': 'https://gopher1.extrkt.com/?paged=10',\n",
       "  'product_url': 'https://gopher1.extrkt.com/?product=sparta-gym-tank'},\n",
       " {'page_number': '10',\n",
       "  'page_url': 'https://gopher1.extrkt.com/?paged=10',\n",
       "  'product_url': 'https://gopher1.extrkt.com/?product=sprite-foam-roller'},\n",
       " {'page_number': '10',\n",
       "  'page_url': 'https://gopher1.extrkt.com/?paged=10',\n",
       "  'product_url': 'https://gopher1.extrkt.com/?product=sprite-foam-yoga-brick'},\n",
       " {'page_number': '10',\n",
       "  'page_url': 'https://gopher1.extrkt.com/?paged=10',\n",
       "  'product_url': 'https://gopher1.extrkt.com/?product=sprite-stasis-ball-55-cm'},\n",
       " {'page_number': '10',\n",
       "  'page_url': 'https://gopher1.extrkt.com/?paged=10',\n",
       "  'product_url': 'https://gopher1.extrkt.com/?product=sprite-stasis-ball-55-cm-2'},\n",
       " {'page_number': '10',\n",
       "  'page_url': 'https://gopher1.extrkt.com/?paged=10',\n",
       "  'product_url': 'https://gopher1.extrkt.com/?product=sprite-stasis-ball-55-cm-3'},\n",
       " {'page_number': '10',\n",
       "  'page_url': 'https://gopher1.extrkt.com/?paged=10',\n",
       "  'product_url': 'https://gopher1.extrkt.com/?product=sprite-stasis-ball-65-cm'},\n",
       " {'page_number': '10',\n",
       "  'page_url': 'https://gopher1.extrkt.com/?paged=10',\n",
       "  'product_url': 'https://gopher1.extrkt.com/?product=sprite-stasis-ball-65-cm-2'},\n",
       " {'page_number': '10',\n",
       "  'page_url': 'https://gopher1.extrkt.com/?paged=10',\n",
       "  'product_url': 'https://gopher1.extrkt.com/?product=sprite-stasis-ball-65-cm-3'},\n",
       " {'page_number': '11',\n",
       "  'page_url': 'https://gopher1.extrkt.com/?paged=11',\n",
       "  'product_url': 'https://gopher1.extrkt.com/?product=sprite-stasis-ball-75-cm'},\n",
       " {'page_number': '11',\n",
       "  'page_url': 'https://gopher1.extrkt.com/?paged=11',\n",
       "  'product_url': 'https://gopher1.extrkt.com/?product=sprite-stasis-ball-75-cm-2'},\n",
       " {'page_number': '11',\n",
       "  'page_url': 'https://gopher1.extrkt.com/?paged=11',\n",
       "  'product_url': 'https://gopher1.extrkt.com/?product=sprite-stasis-ball-75-cm-3'},\n",
       " {'page_number': '11',\n",
       "  'page_url': 'https://gopher1.extrkt.com/?paged=11',\n",
       "  'product_url': 'https://gopher1.extrkt.com/?product=sprite-yoga-strap-10-foot'},\n",
       " {'page_number': '11',\n",
       "  'page_url': 'https://gopher1.extrkt.com/?paged=11',\n",
       "  'product_url': 'https://gopher1.extrkt.com/?product=sprite-yoga-strap-6-foot'},\n",
       " {'page_number': '11',\n",
       "  'page_url': 'https://gopher1.extrkt.com/?paged=11',\n",
       "  'product_url': 'https://gopher1.extrkt.com/?product=sprite-yoga-strap-8-foot'},\n",
       " {'page_number': '11',\n",
       "  'page_url': 'https://gopher1.extrkt.com/?paged=11',\n",
       "  'product_url': 'https://gopher1.extrkt.com/?product=stark-fundamental-hoodie'},\n",
       " {'page_number': '11',\n",
       "  'page_url': 'https://gopher1.extrkt.com/?paged=11',\n",
       "  'product_url': 'https://gopher1.extrkt.com/?product=stellar-solar-jacket'},\n",
       " {'page_number': '11',\n",
       "  'page_url': 'https://gopher1.extrkt.com/?paged=11',\n",
       "  'product_url': 'https://gopher1.extrkt.com/?product=strike-endurance-tee'},\n",
       " {'page_number': '11',\n",
       "  'page_url': 'https://gopher1.extrkt.com/?paged=11',\n",
       "  'product_url': 'https://gopher1.extrkt.com/?product=strive-shoulder-pack'},\n",
       " {'page_number': '11',\n",
       "  'page_url': 'https://gopher1.extrkt.com/?paged=11',\n",
       "  'product_url': 'https://gopher1.extrkt.com/?product=summit-watch'},\n",
       " {'page_number': '11',\n",
       "  'page_url': 'https://gopher1.extrkt.com/?paged=11',\n",
       "  'product_url': 'https://gopher1.extrkt.com/?product=supernova-sport-pant'},\n",
       " {'page_number': '11',\n",
       "  'page_url': 'https://gopher1.extrkt.com/?paged=11',\n",
       "  'product_url': 'https://gopher1.extrkt.com/?product=sybil-running-short'},\n",
       " {'page_number': '11',\n",
       "  'page_url': 'https://gopher1.extrkt.com/?paged=11',\n",
       "  'product_url': 'https://gopher1.extrkt.com/?product=sylvia-capri'},\n",
       " {'page_number': '11',\n",
       "  'page_url': 'https://gopher1.extrkt.com/?paged=11',\n",
       "  'product_url': 'https://gopher1.extrkt.com/?product=taurus-elements-shell'},\n",
       " {'page_number': '11',\n",
       "  'page_url': 'https://gopher1.extrkt.com/?paged=11',\n",
       "  'product_url': 'https://gopher1.extrkt.com/?product=test-product'},\n",
       " {'page_number': '12',\n",
       "  'page_url': 'https://gopher1.extrkt.com/?paged=12',\n",
       "  'product_url': 'https://gopher1.extrkt.com/?product=teton-pullover-hoodie'},\n",
       " {'page_number': '12',\n",
       "  'page_url': 'https://gopher1.extrkt.com/?paged=12',\n",
       "  'product_url': 'https://gopher1.extrkt.com/?product=thorpe-track-pant'},\n",
       " {'page_number': '12',\n",
       "  'page_url': 'https://gopher1.extrkt.com/?paged=12',\n",
       "  'product_url': 'https://gopher1.extrkt.com/?product=tiberius-gym-tank'},\n",
       " {'page_number': '12',\n",
       "  'page_url': 'https://gopher1.extrkt.com/?paged=12',\n",
       "  'product_url': 'https://gopher1.extrkt.com/?product=tiffany-fitness-tee'},\n",
       " {'page_number': '12',\n",
       "  'page_url': 'https://gopher1.extrkt.com/?paged=12',\n",
       "  'product_url': 'https://gopher1.extrkt.com/?product=torque-power-short'},\n",
       " {'page_number': '12',\n",
       "  'page_url': 'https://gopher1.extrkt.com/?paged=12',\n",
       "  'product_url': 'https://gopher1.extrkt.com/?product=tristan-endurance-tank'},\n",
       " {'page_number': '12',\n",
       "  'page_url': 'https://gopher1.extrkt.com/?paged=12',\n",
       "  'product_url': 'https://gopher1.extrkt.com/?product=troy-yoga-short'},\n",
       " {'page_number': '12',\n",
       "  'page_url': 'https://gopher1.extrkt.com/?paged=12',\n",
       "  'product_url': 'https://gopher1.extrkt.com/?product=typhon-performance-fleece-lined-jacket'},\n",
       " {'page_number': '12',\n",
       "  'page_url': 'https://gopher1.extrkt.com/?paged=12',\n",
       "  'product_url': 'https://gopher1.extrkt.com/?product=viktor-lumatech-pant'},\n",
       " {'page_number': '12',\n",
       "  'page_url': 'https://gopher1.extrkt.com/?paged=12',\n",
       "  'product_url': 'https://gopher1.extrkt.com/?product=voyage-yoga-bag'},\n",
       " {'page_number': '12',\n",
       "  'page_url': 'https://gopher1.extrkt.com/?paged=12',\n",
       "  'product_url': 'https://gopher1.extrkt.com/?product=vulcan-weightlifting-tank'},\n",
       " {'page_number': '12',\n",
       "  'page_url': 'https://gopher1.extrkt.com/?paged=12',\n",
       "  'product_url': 'https://gopher1.extrkt.com/?product=wayfarer-messenger-bag'},\n",
       " {'page_number': '12',\n",
       "  'page_url': 'https://gopher1.extrkt.com/?paged=12',\n",
       "  'product_url': 'https://gopher1.extrkt.com/?product=zeppelin-yoga-pant'},\n",
       " {'page_number': '12',\n",
       "  'page_url': 'https://gopher1.extrkt.com/?paged=12',\n",
       "  'product_url': 'https://gopher1.extrkt.com/?product=zing-jump-rope'},\n",
       " {'page_number': '12',\n",
       "  'page_url': 'https://gopher1.extrkt.com/?paged=12',\n",
       "  'product_url': 'https://gopher1.extrkt.com/?product=zoe-tank'},\n",
       " {'page_number': '12',\n",
       "  'page_url': 'https://gopher1.extrkt.com/?paged=12',\n",
       "  'product_url': 'https://gopher1.extrkt.com/?product=zoltan-gym-tee'}]"
      ]
     },
     "execution_count": 4,
     "metadata": {},
     "output_type": "execute_result"
    }
   ],
   "source": [
    "data = read_csv(\"data/external/products_link.csv\")\n",
    "data"
   ]
  },
  {
   "cell_type": "code",
   "execution_count": 6,
   "metadata": {},
   "outputs": [
    {
     "name": "stdout",
     "output_type": "stream",
     "text": [
      "https://gopher1.extrkt.com/?product=abominable-hoodie\n",
      "https://gopher1.extrkt.com/?product=adrienne-trek-jacket\n",
      "https://gopher1.extrkt.com/?product=aeon-capri\n",
      "https://gopher1.extrkt.com/?product=aero-daily-fitness-tee\n",
      "https://gopher1.extrkt.com/?product=aether-gym-pant\n",
      "https://gopher1.extrkt.com/?product=affirm-water-bottle\n",
      "https://gopher1.extrkt.com/?product=aim-analog-watch\n",
      "https://gopher1.extrkt.com/?product=ajax-full-zip-sweatshirt\n",
      "https://gopher1.extrkt.com/?product=ana-running-short\n",
      "https://gopher1.extrkt.com/?product=angel-light-running-short\n",
      "https://gopher1.extrkt.com/?product=antonia-racer-tank\n",
      "https://gopher1.extrkt.com/?product=apollo-running-short\n",
      "https://gopher1.extrkt.com/?product=arcadio-gym-short\n",
      "https://gopher1.extrkt.com/?product=argus-all-weather-tank\n",
      "https://gopher1.extrkt.com/?product=ariel-roll-sleeve-sweatshirt\n",
      "https://gopher1.extrkt.com/?product=artemis-running-short\n",
      "https://gopher1.extrkt.com/?product=atlas-fitness-tank\n",
      "https://gopher1.extrkt.com/?product=atomic-endurance-running-tee-crew-neck\n",
      "https://gopher1.extrkt.com/?product=atomic-endurance-running-tee-v-neck\n",
      "https://gopher1.extrkt.com/?product=augusta-pullover-jacket\n",
      "https://gopher1.extrkt.com/?product=autumn-pullie\n",
      "https://gopher1.extrkt.com/?product=balboa-persistence-tee\n",
      "https://gopher1.extrkt.com/?product=bardot-capri\n",
      "https://gopher1.extrkt.com/?product=beaumont-summit-kit\n",
      "https://gopher1.extrkt.com/?product=bella-tank\n",
      "https://gopher1.extrkt.com/?product=bess-yoga-short\n",
      "https://gopher1.extrkt.com/?product=bolo-sport-watch\n",
      "https://gopher1.extrkt.com/?product=breathe-easy-tank\n",
      "https://gopher1.extrkt.com/?product=bruno-compete-hoodie\n",
      "https://gopher1.extrkt.com/?product=caesar-warm-up-pant\n",
      "https://gopher1.extrkt.com/?product=carina-basic-capri\n",
      "https://gopher1.extrkt.com/?product=cassia-funnel-sweatshirt\n",
      "https://gopher1.extrkt.com/?product=cassius-sparring-tank\n",
      "https://gopher1.extrkt.com/?product=celeste-sports-bra\n",
      "https://gopher1.extrkt.com/?product=chaz-kangeroo-hoodie\n",
      "https://gopher1.extrkt.com/?product=chloe-compete-tank\n",
      "https://gopher1.extrkt.com/?product=circe-hooded-ice-fleece\n",
      "https://gopher1.extrkt.com/?product=clamber-watch\n",
      "https://gopher1.extrkt.com/?product=cobalt-cooltech-fitness-short\n",
      "https://gopher1.extrkt.com/?product=compete-track-tote\n",
      "https://gopher1.extrkt.com/?product=cora-parachute-pant\n",
      "https://gopher1.extrkt.com/?product=cronus-yoga-pant\n",
      "https://gopher1.extrkt.com/?product=crown-summit-backpack\n",
      "https://gopher1.extrkt.com/?product=cruise-dual-analog-watch\n",
      "https://gopher1.extrkt.com/?product=daphne-full-zip-hoodie\n",
      "https://gopher1.extrkt.com/?product=daria-bikram-pant\n",
      "https://gopher1.extrkt.com/?product=dash-digital-watch\n",
      "https://gopher1.extrkt.com/?product=deion-long-sleeve-evercool-tee\n",
      "https://gopher1.extrkt.com/?product=deirdre-relaxed-fit-capri\n",
      "https://gopher1.extrkt.com/?product=desiree-fitness-tee\n",
      "https://gopher1.extrkt.com/?product=diana-tights\n",
      "https://gopher1.extrkt.com/?product=didi-sport-watch\n",
      "https://gopher1.extrkt.com/?product=diva-gym-tee\n",
      "https://gopher1.extrkt.com/?product=driven-backpack\n",
      "https://gopher1.extrkt.com/?product=dual-handle-cardio-ball\n",
      "https://gopher1.extrkt.com/?product=echo-fit-compression-short\n",
      "https://gopher1.extrkt.com/?product=electra-bra-top\n",
      "https://gopher1.extrkt.com/?product=elisa-evercool-tee\n",
      "https://gopher1.extrkt.com/?product=emma-leggings\n",
      "https://gopher1.extrkt.com/?product=endeavor-daytrip-backpack\n",
      "https://gopher1.extrkt.com/?product=endurance-watch\n",
      "https://gopher1.extrkt.com/?product=eos-v-neck-hoodie\n",
      "https://gopher1.extrkt.com/?product=erica-evercool-sports-bra\n",
      "https://gopher1.extrkt.com/?product=erika-running-short\n",
      "https://gopher1.extrkt.com/?product=erikssen-cooltech-fitness-tank\n",
      "https://gopher1.extrkt.com/?product=fiona-fitness-short\n",
      "https://gopher1.extrkt.com/?product=frankie-sweatshirt\n",
      "https://gopher1.extrkt.com/?product=fusion-backpack\n",
      "https://gopher1.extrkt.com/?product=gabrielle-micro-sleeve-top\n",
      "https://gopher1.extrkt.com/?product=geo-insulated-jogging-pant\n",
      "https://gopher1.extrkt.com/?product=go-getr-pushup-grips\n",
      "https://gopher1.extrkt.com/?product=gobi-heattec-tee\n",
      "https://gopher1.extrkt.com/?product=grayson-crewneck-sweatshirt\n",
      "https://gopher1.extrkt.com/?product=gwen-drawstring-bike-short\n",
      "https://gopher1.extrkt.com/?product=gwyn-endurance-tee\n",
      "https://gopher1.extrkt.com/?product=harmony-lumaflex-strength-band-kit\n",
      "https://gopher1.extrkt.com/?product=hawkeye-yoga-short\n",
      "https://gopher1.extrkt.com/?product=helena-hooded-fleece\n",
      "https://gopher1.extrkt.com/?product=helios-endurance-tank\n",
      "https://gopher1.extrkt.com/?product=helios-evercool-tee\n",
      "https://gopher1.extrkt.com/?product=hera-pullover-hoodie\n",
      "https://gopher1.extrkt.com/?product=hero-hoodie\n",
      "https://gopher1.extrkt.com/?product=hollister-backyard-sweatshirt\n",
      "https://gopher1.extrkt.com/?product=hyperion-elements-jacket\n",
      "https://gopher1.extrkt.com/?product=ida-workout-parachute-pant\n",
      "https://gopher1.extrkt.com/?product=impulse-duffle\n",
      "https://gopher1.extrkt.com/?product=ina-compression-short\n",
      "https://gopher1.extrkt.com/?product=inez-full-zip-jacket\n",
      "https://gopher1.extrkt.com/?product=ingrid-running-jacket\n",
      "https://gopher1.extrkt.com/?product=iris-workout-top\n",
      "https://gopher1.extrkt.com/?product=jade-yoga-jacket\n",
      "https://gopher1.extrkt.com/?product=josie-yoga-jacket\n",
      "https://gopher1.extrkt.com/?product=joust-duffle-bag\n",
      "https://gopher1.extrkt.com/?product=juliana-short-sleeve-tee\n",
      "https://gopher1.extrkt.com/?product=juno-jacket\n",
      "https://gopher1.extrkt.com/?product=jupiter-all-weather-trainer\n",
      "https://gopher1.extrkt.com/?product=karissa-v-neck-tee\n",
      "https://gopher1.extrkt.com/?product=karmen-yoga-pant\n",
      "https://gopher1.extrkt.com/?product=kenobi-trail-jacket\n",
      "https://gopher1.extrkt.com/?product=kratos-gym-pant\n",
      "https://gopher1.extrkt.com/?product=lando-gym-jacket\n",
      "https://gopher1.extrkt.com/?product=layla-tee\n",
      "https://gopher1.extrkt.com/?product=leah-yoga-top\n",
      "https://gopher1.extrkt.com/?product=livingston-all-purpose-tight\n",
      "https://gopher1.extrkt.com/?product=logan-heattec-tee\n",
      "https://gopher1.extrkt.com/?product=lono-yoga-short\n",
      "https://gopher1.extrkt.com/?product=lucia-cross-fit-bra\n",
      "https://gopher1.extrkt.com/?product=luma-analog-watch\n",
      "https://gopher1.extrkt.com/?product=mach-street-sweatshirt\n",
      "https://gopher1.extrkt.com/?product=marco-lightweight-active-hoodie\n",
      "https://gopher1.extrkt.com/?product=mars-heattech-pullover\n",
      "https://gopher1.extrkt.com/?product=maxima-drawstring-short\n",
      "https://gopher1.extrkt.com/?product=maya-tunic\n",
      "https://gopher1.extrkt.com/?product=meteor-workout-short\n",
      "https://gopher1.extrkt.com/?product=miko-pullover-hoodie\n",
      "https://gopher1.extrkt.com/?product=mimi-all-purpose-short\n",
      "https://gopher1.extrkt.com/?product=minerva-lumatech-v-tee\n",
      "https://gopher1.extrkt.com/?product=mithra-warmup-pant\n",
      "https://gopher1.extrkt.com/?product=mona-pullover-hoodlie\n",
      "https://gopher1.extrkt.com/?product=montana-wind-jacket\n",
      "https://gopher1.extrkt.com/?product=nadia-elements-shell\n",
      "https://gopher1.extrkt.com/?product=neve-studio-dance-jacket\n",
      "https://gopher1.extrkt.com/?product=nona-fitness-tank\n",
      "https://gopher1.extrkt.com/?product=nora-practice-tank\n",
      "https://gopher1.extrkt.com/?product=olivia-1-4-zip-light-jacket\n",
      "https://gopher1.extrkt.com/?product=orestes-fitness-short\n",
      "https://gopher1.extrkt.com/?product=orestes-yoga-pant\n",
      "https://gopher1.extrkt.com/?product=orion-two-tone-fitted-jacket\n",
      "https://gopher1.extrkt.com/?product=oslo-trek-hoodie\n",
      "https://gopher1.extrkt.com/?product=overnight-duffle\n",
      "https://gopher1.extrkt.com/?product=phoebe-zipper-sweatshirt\n",
      "https://gopher1.extrkt.com/?product=pierce-gym-short\n",
      "https://gopher1.extrkt.com/?product=portia-capri\n",
      "https://gopher1.extrkt.com/?product=prima-compete-bra-top\n",
      "https://gopher1.extrkt.com/?product=primo-endurance-tank\n",
      "https://gopher1.extrkt.com/?product=proteus-fitness-jackshirt\n",
      "https://gopher1.extrkt.com/?product=pursuit-lumaflex-tone-band\n",
      "https://gopher1.extrkt.com/?product=push-it-messenger-bag\n",
      "https://gopher1.extrkt.com/?product=quest-lumaflex-band\n",
      "https://gopher1.extrkt.com/?product=radiant-tee\n",
      "https://gopher1.extrkt.com/?product=rapha-sports-short\n",
      "https://gopher1.extrkt.com/?product=riona-full-zip-jacket\n",
      "https://gopher1.extrkt.com/?product=rival-field-messenger\n",
      "https://gopher1.extrkt.com/?product=rocco-gym-tank\n",
      "https://gopher1.extrkt.com/?product=ryker-lumatech-tee-crew-neck\n",
      "https://gopher1.extrkt.com/?product=ryker-lumatech-tee-v-neck\n",
      "https://gopher1.extrkt.com/?product=sahara-leggings\n",
      "https://gopher1.extrkt.com/?product=savvy-shoulder-tote\n",
      "https://gopher1.extrkt.com/?product=selene-yoga-hoodie\n",
      "https://gopher1.extrkt.com/?product=sinbad-fitness-tank\n",
      "https://gopher1.extrkt.com/?product=sol-active-short\n",
      "https://gopher1.extrkt.com/?product=sparta-gym-tank\n",
      "https://gopher1.extrkt.com/?product=sprite-foam-roller\n",
      "https://gopher1.extrkt.com/?product=sprite-foam-yoga-brick\n",
      "https://gopher1.extrkt.com/?product=sprite-stasis-ball-55-cm\n",
      "https://gopher1.extrkt.com/?product=sprite-stasis-ball-55-cm-2\n",
      "https://gopher1.extrkt.com/?product=sprite-stasis-ball-55-cm-3\n",
      "https://gopher1.extrkt.com/?product=sprite-stasis-ball-65-cm\n",
      "https://gopher1.extrkt.com/?product=sprite-stasis-ball-65-cm-2\n",
      "https://gopher1.extrkt.com/?product=sprite-stasis-ball-65-cm-3\n",
      "https://gopher1.extrkt.com/?product=sprite-stasis-ball-75-cm\n",
      "https://gopher1.extrkt.com/?product=sprite-stasis-ball-75-cm-2\n",
      "https://gopher1.extrkt.com/?product=sprite-stasis-ball-75-cm-3\n",
      "https://gopher1.extrkt.com/?product=sprite-yoga-strap-10-foot\n",
      "https://gopher1.extrkt.com/?product=sprite-yoga-strap-6-foot\n",
      "https://gopher1.extrkt.com/?product=sprite-yoga-strap-8-foot\n",
      "https://gopher1.extrkt.com/?product=stark-fundamental-hoodie\n",
      "https://gopher1.extrkt.com/?product=stellar-solar-jacket\n",
      "https://gopher1.extrkt.com/?product=strike-endurance-tee\n",
      "https://gopher1.extrkt.com/?product=strive-shoulder-pack\n",
      "https://gopher1.extrkt.com/?product=summit-watch\n",
      "https://gopher1.extrkt.com/?product=supernova-sport-pant\n",
      "https://gopher1.extrkt.com/?product=sybil-running-short\n",
      "https://gopher1.extrkt.com/?product=sylvia-capri\n",
      "https://gopher1.extrkt.com/?product=taurus-elements-shell\n",
      "https://gopher1.extrkt.com/?product=test-product\n",
      "https://gopher1.extrkt.com/?product=teton-pullover-hoodie\n",
      "https://gopher1.extrkt.com/?product=thorpe-track-pant\n",
      "https://gopher1.extrkt.com/?product=tiberius-gym-tank\n",
      "https://gopher1.extrkt.com/?product=tiffany-fitness-tee\n",
      "https://gopher1.extrkt.com/?product=torque-power-short\n",
      "https://gopher1.extrkt.com/?product=tristan-endurance-tank\n",
      "https://gopher1.extrkt.com/?product=troy-yoga-short\n",
      "https://gopher1.extrkt.com/?product=typhon-performance-fleece-lined-jacket\n",
      "https://gopher1.extrkt.com/?product=viktor-lumatech-pant\n",
      "https://gopher1.extrkt.com/?product=voyage-yoga-bag\n",
      "https://gopher1.extrkt.com/?product=vulcan-weightlifting-tank\n",
      "https://gopher1.extrkt.com/?product=wayfarer-messenger-bag\n",
      "https://gopher1.extrkt.com/?product=zeppelin-yoga-pant\n",
      "https://gopher1.extrkt.com/?product=zing-jump-rope\n",
      "https://gopher1.extrkt.com/?product=zoe-tank\n",
      "https://gopher1.extrkt.com/?product=zoltan-gym-tee\n"
     ]
    }
   ],
   "source": [
    "for row in data:\n",
    "    print(row['product_url'])"
   ]
  },
  {
   "cell_type": "code",
   "execution_count": null,
   "metadata": {},
   "outputs": [],
   "source": []
  }
 ],
 "metadata": {
  "kernelspec": {
   "display_name": ".venv",
   "language": "python",
   "name": "python3"
  },
  "language_info": {
   "codemirror_mode": {
    "name": "ipython",
    "version": 3
   },
   "file_extension": ".py",
   "mimetype": "text/x-python",
   "name": "python",
   "nbconvert_exporter": "python",
   "pygments_lexer": "ipython3",
   "version": "3.10.11"
  }
 },
 "nbformat": 4,
 "nbformat_minor": 2
}
